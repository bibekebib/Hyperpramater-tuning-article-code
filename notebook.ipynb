{
 "cells": [
  {
   "cell_type": "code",
   "metadata": {
    "tags": [],
    "cell_id": "00000-32968690-c496-44aa-b8ea-317e7eb7ddba",
    "deepnote_to_be_reexecuted": false,
    "source_hash": "774cf3c1",
    "execution_start": 1620449848454,
    "execution_millis": 1167,
    "deepnote_cell_type": "code"
   },
   "source": "from sklearn.svm import SVC\n\nSVC().get_params()",
   "execution_count": null,
   "outputs": [
    {
     "output_type": "execute_result",
     "execution_count": 1,
     "data": {
      "text/plain": "{'C': 1.0,\n 'break_ties': False,\n 'cache_size': 200,\n 'class_weight': None,\n 'coef0': 0.0,\n 'decision_function_shape': 'ovr',\n 'degree': 3,\n 'gamma': 'scale',\n 'kernel': 'rbf',\n 'max_iter': -1,\n 'probability': False,\n 'random_state': None,\n 'shrinking': True,\n 'tol': 0.001,\n 'verbose': False}"
     },
     "metadata": {}
    }
   ]
  },
  {
   "cell_type": "code",
   "metadata": {
    "tags": [],
    "cell_id": "00001-5442f5b9-d9e8-4696-8888-02913b785a32",
    "deepnote_to_be_reexecuted": false,
    "source_hash": "2b296b8f",
    "execution_start": 1620449849619,
    "execution_millis": 460,
    "deepnote_cell_type": "code"
   },
   "source": "#importing required moduels.\nimport pandas as pd #for tabular data frame analysis\nimport numpy as np #Form mathematical Manipulation\nimport matplotlib.pyplot as plt #for data visulaization\nimport seaborn as sns #Seaborn is developed on top of matplotlib library",
   "execution_count": null,
   "outputs": []
  },
  {
   "cell_type": "code",
   "metadata": {
    "tags": [],
    "cell_id": "00001-94aed61b-6b47-4aaf-b46f-7d47cc6092e7",
    "deepnote_to_be_reexecuted": false,
    "source_hash": "44db3235",
    "execution_start": 1620449850084,
    "execution_millis": 10,
    "deepnote_cell_type": "code"
   },
   "source": "\ndf = pd.read_csv('./heart.csv') #The dataset is downloaded and saved to root folder. ",
   "execution_count": null,
   "outputs": []
  },
  {
   "cell_type": "code",
   "metadata": {
    "tags": [],
    "cell_id": "00003-4a61016f-fb86-4b12-b28b-dfc1c26b02a5",
    "deepnote_to_be_reexecuted": false,
    "source_hash": "c085b6ba",
    "execution_start": 1620449850112,
    "execution_millis": 32,
    "deepnote_cell_type": "code"
   },
   "source": "df.head()",
   "execution_count": null,
   "outputs": [
    {
     "output_type": "execute_result",
     "execution_count": 4,
     "data": {
      "application/vnd.deepnote.dataframe.v2+json": {
       "row_count": 5,
       "column_count": 14,
       "columns": [
        {
         "name": "age",
         "dtype": "int64",
         "stats": {
          "unique_count": 5,
          "nan_count": 0,
          "min": "37",
          "max": "63",
          "histogram": [
           {
            "bin_start": 37,
            "bin_end": 39.6,
            "count": 1
           },
           {
            "bin_start": 39.6,
            "bin_end": 42.2,
            "count": 1
           },
           {
            "bin_start": 42.2,
            "bin_end": 44.8,
            "count": 0
           },
           {
            "bin_start": 44.8,
            "bin_end": 47.4,
            "count": 0
           },
           {
            "bin_start": 47.4,
            "bin_end": 50,
            "count": 0
           },
           {
            "bin_start": 50,
            "bin_end": 52.6,
            "count": 0
           },
           {
            "bin_start": 52.6,
            "bin_end": 55.2,
            "count": 0
           },
           {
            "bin_start": 55.2,
            "bin_end": 57.8,
            "count": 2
           },
           {
            "bin_start": 57.8,
            "bin_end": 60.400000000000006,
            "count": 0
           },
           {
            "bin_start": 60.400000000000006,
            "bin_end": 63,
            "count": 1
           }
          ]
         }
        },
        {
         "name": "sex",
         "dtype": "int64",
         "stats": {
          "unique_count": 2,
          "nan_count": 0,
          "min": "0",
          "max": "1",
          "histogram": [
           {
            "bin_start": 0,
            "bin_end": 0.1,
            "count": 2
           },
           {
            "bin_start": 0.1,
            "bin_end": 0.2,
            "count": 0
           },
           {
            "bin_start": 0.2,
            "bin_end": 0.30000000000000004,
            "count": 0
           },
           {
            "bin_start": 0.30000000000000004,
            "bin_end": 0.4,
            "count": 0
           },
           {
            "bin_start": 0.4,
            "bin_end": 0.5,
            "count": 0
           },
           {
            "bin_start": 0.5,
            "bin_end": 0.6000000000000001,
            "count": 0
           },
           {
            "bin_start": 0.6000000000000001,
            "bin_end": 0.7000000000000001,
            "count": 0
           },
           {
            "bin_start": 0.7000000000000001,
            "bin_end": 0.8,
            "count": 0
           },
           {
            "bin_start": 0.8,
            "bin_end": 0.9,
            "count": 0
           },
           {
            "bin_start": 0.9,
            "bin_end": 1,
            "count": 3
           }
          ]
         }
        },
        {
         "name": "cp",
         "dtype": "int64",
         "stats": {
          "unique_count": 4,
          "nan_count": 0,
          "min": "0",
          "max": "3",
          "histogram": [
           {
            "bin_start": 0,
            "bin_end": 0.3,
            "count": 1
           },
           {
            "bin_start": 0.3,
            "bin_end": 0.6,
            "count": 0
           },
           {
            "bin_start": 0.6,
            "bin_end": 0.8999999999999999,
            "count": 0
           },
           {
            "bin_start": 0.8999999999999999,
            "bin_end": 1.2,
            "count": 2
           },
           {
            "bin_start": 1.2,
            "bin_end": 1.5,
            "count": 0
           },
           {
            "bin_start": 1.5,
            "bin_end": 1.7999999999999998,
            "count": 0
           },
           {
            "bin_start": 1.7999999999999998,
            "bin_end": 2.1,
            "count": 1
           },
           {
            "bin_start": 2.1,
            "bin_end": 2.4,
            "count": 0
           },
           {
            "bin_start": 2.4,
            "bin_end": 2.6999999999999997,
            "count": 0
           },
           {
            "bin_start": 2.6999999999999997,
            "bin_end": 3,
            "count": 1
           }
          ]
         }
        },
        {
         "name": "trestbps",
         "dtype": "int64",
         "stats": {
          "unique_count": 3,
          "nan_count": 0,
          "min": "120",
          "max": "145",
          "histogram": [
           {
            "bin_start": 120,
            "bin_end": 122.5,
            "count": 2
           },
           {
            "bin_start": 122.5,
            "bin_end": 125,
            "count": 0
           },
           {
            "bin_start": 125,
            "bin_end": 127.5,
            "count": 0
           },
           {
            "bin_start": 127.5,
            "bin_end": 130,
            "count": 0
           },
           {
            "bin_start": 130,
            "bin_end": 132.5,
            "count": 2
           },
           {
            "bin_start": 132.5,
            "bin_end": 135,
            "count": 0
           },
           {
            "bin_start": 135,
            "bin_end": 137.5,
            "count": 0
           },
           {
            "bin_start": 137.5,
            "bin_end": 140,
            "count": 0
           },
           {
            "bin_start": 140,
            "bin_end": 142.5,
            "count": 0
           },
           {
            "bin_start": 142.5,
            "bin_end": 145,
            "count": 1
           }
          ]
         }
        },
        {
         "name": "chol",
         "dtype": "int64",
         "stats": {
          "unique_count": 5,
          "nan_count": 0,
          "min": "204",
          "max": "354",
          "histogram": [
           {
            "bin_start": 204,
            "bin_end": 219,
            "count": 1
           },
           {
            "bin_start": 219,
            "bin_end": 234,
            "count": 1
           },
           {
            "bin_start": 234,
            "bin_end": 249,
            "count": 1
           },
           {
            "bin_start": 249,
            "bin_end": 264,
            "count": 1
           },
           {
            "bin_start": 264,
            "bin_end": 279,
            "count": 0
           },
           {
            "bin_start": 279,
            "bin_end": 294,
            "count": 0
           },
           {
            "bin_start": 294,
            "bin_end": 309,
            "count": 0
           },
           {
            "bin_start": 309,
            "bin_end": 324,
            "count": 0
           },
           {
            "bin_start": 324,
            "bin_end": 339,
            "count": 0
           },
           {
            "bin_start": 339,
            "bin_end": 354,
            "count": 1
           }
          ]
         }
        },
        {
         "name": "fbs",
         "dtype": "int64",
         "stats": {
          "unique_count": 2,
          "nan_count": 0,
          "min": "0",
          "max": "1",
          "histogram": [
           {
            "bin_start": 0,
            "bin_end": 0.1,
            "count": 4
           },
           {
            "bin_start": 0.1,
            "bin_end": 0.2,
            "count": 0
           },
           {
            "bin_start": 0.2,
            "bin_end": 0.30000000000000004,
            "count": 0
           },
           {
            "bin_start": 0.30000000000000004,
            "bin_end": 0.4,
            "count": 0
           },
           {
            "bin_start": 0.4,
            "bin_end": 0.5,
            "count": 0
           },
           {
            "bin_start": 0.5,
            "bin_end": 0.6000000000000001,
            "count": 0
           },
           {
            "bin_start": 0.6000000000000001,
            "bin_end": 0.7000000000000001,
            "count": 0
           },
           {
            "bin_start": 0.7000000000000001,
            "bin_end": 0.8,
            "count": 0
           },
           {
            "bin_start": 0.8,
            "bin_end": 0.9,
            "count": 0
           },
           {
            "bin_start": 0.9,
            "bin_end": 1,
            "count": 1
           }
          ]
         }
        },
        {
         "name": "restecg",
         "dtype": "int64",
         "stats": {
          "unique_count": 2,
          "nan_count": 0,
          "min": "0",
          "max": "1",
          "histogram": [
           {
            "bin_start": 0,
            "bin_end": 0.1,
            "count": 2
           },
           {
            "bin_start": 0.1,
            "bin_end": 0.2,
            "count": 0
           },
           {
            "bin_start": 0.2,
            "bin_end": 0.30000000000000004,
            "count": 0
           },
           {
            "bin_start": 0.30000000000000004,
            "bin_end": 0.4,
            "count": 0
           },
           {
            "bin_start": 0.4,
            "bin_end": 0.5,
            "count": 0
           },
           {
            "bin_start": 0.5,
            "bin_end": 0.6000000000000001,
            "count": 0
           },
           {
            "bin_start": 0.6000000000000001,
            "bin_end": 0.7000000000000001,
            "count": 0
           },
           {
            "bin_start": 0.7000000000000001,
            "bin_end": 0.8,
            "count": 0
           },
           {
            "bin_start": 0.8,
            "bin_end": 0.9,
            "count": 0
           },
           {
            "bin_start": 0.9,
            "bin_end": 1,
            "count": 3
           }
          ]
         }
        },
        {
         "name": "thalach",
         "dtype": "int64",
         "stats": {
          "unique_count": 5,
          "nan_count": 0,
          "min": "150",
          "max": "187",
          "histogram": [
           {
            "bin_start": 150,
            "bin_end": 153.7,
            "count": 1
           },
           {
            "bin_start": 153.7,
            "bin_end": 157.4,
            "count": 0
           },
           {
            "bin_start": 157.4,
            "bin_end": 161.1,
            "count": 0
           },
           {
            "bin_start": 161.1,
            "bin_end": 164.8,
            "count": 1
           },
           {
            "bin_start": 164.8,
            "bin_end": 168.5,
            "count": 0
           },
           {
            "bin_start": 168.5,
            "bin_end": 172.2,
            "count": 1
           },
           {
            "bin_start": 172.2,
            "bin_end": 175.9,
            "count": 0
           },
           {
            "bin_start": 175.9,
            "bin_end": 179.6,
            "count": 1
           },
           {
            "bin_start": 179.6,
            "bin_end": 183.3,
            "count": 0
           },
           {
            "bin_start": 183.3,
            "bin_end": 187,
            "count": 1
           }
          ]
         }
        },
        {
         "name": "exang",
         "dtype": "int64",
         "stats": {
          "unique_count": 2,
          "nan_count": 0,
          "min": "0",
          "max": "1",
          "histogram": [
           {
            "bin_start": 0,
            "bin_end": 0.1,
            "count": 4
           },
           {
            "bin_start": 0.1,
            "bin_end": 0.2,
            "count": 0
           },
           {
            "bin_start": 0.2,
            "bin_end": 0.30000000000000004,
            "count": 0
           },
           {
            "bin_start": 0.30000000000000004,
            "bin_end": 0.4,
            "count": 0
           },
           {
            "bin_start": 0.4,
            "bin_end": 0.5,
            "count": 0
           },
           {
            "bin_start": 0.5,
            "bin_end": 0.6000000000000001,
            "count": 0
           },
           {
            "bin_start": 0.6000000000000001,
            "bin_end": 0.7000000000000001,
            "count": 0
           },
           {
            "bin_start": 0.7000000000000001,
            "bin_end": 0.8,
            "count": 0
           },
           {
            "bin_start": 0.8,
            "bin_end": 0.9,
            "count": 0
           },
           {
            "bin_start": 0.9,
            "bin_end": 1,
            "count": 1
           }
          ]
         }
        },
        {
         "name": "oldpeak",
         "dtype": "float64",
         "stats": {
          "unique_count": 5,
          "nan_count": 0,
          "min": "0.6",
          "max": "3.5",
          "histogram": [
           {
            "bin_start": 0.6,
            "bin_end": 0.8899999999999999,
            "count": 2
           },
           {
            "bin_start": 0.8899999999999999,
            "bin_end": 1.18,
            "count": 0
           },
           {
            "bin_start": 1.18,
            "bin_end": 1.4699999999999998,
            "count": 1
           },
           {
            "bin_start": 1.4699999999999998,
            "bin_end": 1.7599999999999998,
            "count": 0
           },
           {
            "bin_start": 1.7599999999999998,
            "bin_end": 2.05,
            "count": 0
           },
           {
            "bin_start": 2.05,
            "bin_end": 2.34,
            "count": 1
           },
           {
            "bin_start": 2.34,
            "bin_end": 2.63,
            "count": 0
           },
           {
            "bin_start": 2.63,
            "bin_end": 2.92,
            "count": 0
           },
           {
            "bin_start": 2.92,
            "bin_end": 3.21,
            "count": 0
           },
           {
            "bin_start": 3.21,
            "bin_end": 3.5,
            "count": 1
           }
          ]
         }
        },
        {
         "name": "slope",
         "dtype": "int64",
         "stats": {
          "unique_count": 2,
          "nan_count": 0,
          "min": "0",
          "max": "2",
          "histogram": [
           {
            "bin_start": 0,
            "bin_end": 0.2,
            "count": 2
           },
           {
            "bin_start": 0.2,
            "bin_end": 0.4,
            "count": 0
           },
           {
            "bin_start": 0.4,
            "bin_end": 0.6000000000000001,
            "count": 0
           },
           {
            "bin_start": 0.6000000000000001,
            "bin_end": 0.8,
            "count": 0
           },
           {
            "bin_start": 0.8,
            "bin_end": 1,
            "count": 0
           },
           {
            "bin_start": 1,
            "bin_end": 1.2000000000000002,
            "count": 0
           },
           {
            "bin_start": 1.2000000000000002,
            "bin_end": 1.4000000000000001,
            "count": 0
           },
           {
            "bin_start": 1.4000000000000001,
            "bin_end": 1.6,
            "count": 0
           },
           {
            "bin_start": 1.6,
            "bin_end": 1.8,
            "count": 0
           },
           {
            "bin_start": 1.8,
            "bin_end": 2,
            "count": 3
           }
          ]
         }
        },
        {
         "name": "ca",
         "dtype": "int64",
         "stats": {
          "unique_count": 1,
          "nan_count": 0,
          "min": "0",
          "max": "0",
          "histogram": [
           {
            "bin_start": -0.5,
            "bin_end": -0.4,
            "count": 0
           },
           {
            "bin_start": -0.4,
            "bin_end": -0.3,
            "count": 0
           },
           {
            "bin_start": -0.3,
            "bin_end": -0.19999999999999996,
            "count": 0
           },
           {
            "bin_start": -0.19999999999999996,
            "bin_end": -0.09999999999999998,
            "count": 0
           },
           {
            "bin_start": -0.09999999999999998,
            "bin_end": 0,
            "count": 0
           },
           {
            "bin_start": 0,
            "bin_end": 0.10000000000000009,
            "count": 5
           },
           {
            "bin_start": 0.10000000000000009,
            "bin_end": 0.20000000000000007,
            "count": 0
           },
           {
            "bin_start": 0.20000000000000007,
            "bin_end": 0.30000000000000004,
            "count": 0
           },
           {
            "bin_start": 0.30000000000000004,
            "bin_end": 0.4,
            "count": 0
           },
           {
            "bin_start": 0.4,
            "bin_end": 0.5,
            "count": 0
           }
          ]
         }
        },
        {
         "name": "thal",
         "dtype": "int64",
         "stats": {
          "unique_count": 2,
          "nan_count": 0,
          "min": "1",
          "max": "2",
          "histogram": [
           {
            "bin_start": 1,
            "bin_end": 1.1,
            "count": 1
           },
           {
            "bin_start": 1.1,
            "bin_end": 1.2,
            "count": 0
           },
           {
            "bin_start": 1.2,
            "bin_end": 1.3,
            "count": 0
           },
           {
            "bin_start": 1.3,
            "bin_end": 1.4,
            "count": 0
           },
           {
            "bin_start": 1.4,
            "bin_end": 1.5,
            "count": 0
           },
           {
            "bin_start": 1.5,
            "bin_end": 1.6,
            "count": 0
           },
           {
            "bin_start": 1.6,
            "bin_end": 1.7000000000000002,
            "count": 0
           },
           {
            "bin_start": 1.7000000000000002,
            "bin_end": 1.8,
            "count": 0
           },
           {
            "bin_start": 1.8,
            "bin_end": 1.9,
            "count": 0
           },
           {
            "bin_start": 1.9,
            "bin_end": 2,
            "count": 4
           }
          ]
         }
        },
        {
         "name": "target",
         "dtype": "int64",
         "stats": {
          "unique_count": 1,
          "nan_count": 0,
          "min": "1",
          "max": "1",
          "histogram": [
           {
            "bin_start": 0.5,
            "bin_end": 0.6,
            "count": 0
           },
           {
            "bin_start": 0.6,
            "bin_end": 0.7,
            "count": 0
           },
           {
            "bin_start": 0.7,
            "bin_end": 0.8,
            "count": 0
           },
           {
            "bin_start": 0.8,
            "bin_end": 0.9,
            "count": 0
           },
           {
            "bin_start": 0.9,
            "bin_end": 1,
            "count": 0
           },
           {
            "bin_start": 1,
            "bin_end": 1.1,
            "count": 5
           },
           {
            "bin_start": 1.1,
            "bin_end": 1.2000000000000002,
            "count": 0
           },
           {
            "bin_start": 1.2000000000000002,
            "bin_end": 1.3,
            "count": 0
           },
           {
            "bin_start": 1.3,
            "bin_end": 1.4,
            "count": 0
           },
           {
            "bin_start": 1.4,
            "bin_end": 1.5,
            "count": 0
           }
          ]
         }
        },
        {
         "name": "_deepnote_index_column",
         "dtype": "int64"
        }
       ],
       "rows_top": [
        {
         "age": 63,
         "sex": 1,
         "cp": 3,
         "trestbps": 145,
         "chol": 233,
         "fbs": 1,
         "restecg": 0,
         "thalach": 150,
         "exang": 0,
         "oldpeak": 2.3,
         "slope": 0,
         "ca": 0,
         "thal": 1,
         "target": 1,
         "_deepnote_index_column": 0
        },
        {
         "age": 37,
         "sex": 1,
         "cp": 2,
         "trestbps": 130,
         "chol": 250,
         "fbs": 0,
         "restecg": 1,
         "thalach": 187,
         "exang": 0,
         "oldpeak": 3.5,
         "slope": 0,
         "ca": 0,
         "thal": 2,
         "target": 1,
         "_deepnote_index_column": 1
        },
        {
         "age": 41,
         "sex": 0,
         "cp": 1,
         "trestbps": 130,
         "chol": 204,
         "fbs": 0,
         "restecg": 0,
         "thalach": 172,
         "exang": 0,
         "oldpeak": 1.4,
         "slope": 2,
         "ca": 0,
         "thal": 2,
         "target": 1,
         "_deepnote_index_column": 2
        },
        {
         "age": 56,
         "sex": 1,
         "cp": 1,
         "trestbps": 120,
         "chol": 236,
         "fbs": 0,
         "restecg": 1,
         "thalach": 178,
         "exang": 0,
         "oldpeak": 0.8,
         "slope": 2,
         "ca": 0,
         "thal": 2,
         "target": 1,
         "_deepnote_index_column": 3
        },
        {
         "age": 57,
         "sex": 0,
         "cp": 0,
         "trestbps": 120,
         "chol": 354,
         "fbs": 0,
         "restecg": 1,
         "thalach": 163,
         "exang": 1,
         "oldpeak": 0.6,
         "slope": 2,
         "ca": 0,
         "thal": 2,
         "target": 1,
         "_deepnote_index_column": 4
        }
       ],
       "rows_bottom": null
      },
      "text/plain": "   age  sex  cp  trestbps  chol  fbs  restecg  thalach  exang  oldpeak  slope  \\\n0   63    1   3       145   233    1        0      150      0      2.3      0   \n1   37    1   2       130   250    0        1      187      0      3.5      0   \n2   41    0   1       130   204    0        0      172      0      1.4      2   \n3   56    1   1       120   236    0        1      178      0      0.8      2   \n4   57    0   0       120   354    0        1      163      1      0.6      2   \n\n   ca  thal  target  \n0   0     1       1  \n1   0     2       1  \n2   0     2       1  \n3   0     2       1  \n4   0     2       1  ",
      "text/html": "<div>\n<style scoped>\n    .dataframe tbody tr th:only-of-type {\n        vertical-align: middle;\n    }\n\n    .dataframe tbody tr th {\n        vertical-align: top;\n    }\n\n    .dataframe thead th {\n        text-align: right;\n    }\n</style>\n<table border=\"1\" class=\"dataframe\">\n  <thead>\n    <tr style=\"text-align: right;\">\n      <th></th>\n      <th>age</th>\n      <th>sex</th>\n      <th>cp</th>\n      <th>trestbps</th>\n      <th>chol</th>\n      <th>fbs</th>\n      <th>restecg</th>\n      <th>thalach</th>\n      <th>exang</th>\n      <th>oldpeak</th>\n      <th>slope</th>\n      <th>ca</th>\n      <th>thal</th>\n      <th>target</th>\n    </tr>\n  </thead>\n  <tbody>\n    <tr>\n      <th>0</th>\n      <td>63</td>\n      <td>1</td>\n      <td>3</td>\n      <td>145</td>\n      <td>233</td>\n      <td>1</td>\n      <td>0</td>\n      <td>150</td>\n      <td>0</td>\n      <td>2.3</td>\n      <td>0</td>\n      <td>0</td>\n      <td>1</td>\n      <td>1</td>\n    </tr>\n    <tr>\n      <th>1</th>\n      <td>37</td>\n      <td>1</td>\n      <td>2</td>\n      <td>130</td>\n      <td>250</td>\n      <td>0</td>\n      <td>1</td>\n      <td>187</td>\n      <td>0</td>\n      <td>3.5</td>\n      <td>0</td>\n      <td>0</td>\n      <td>2</td>\n      <td>1</td>\n    </tr>\n    <tr>\n      <th>2</th>\n      <td>41</td>\n      <td>0</td>\n      <td>1</td>\n      <td>130</td>\n      <td>204</td>\n      <td>0</td>\n      <td>0</td>\n      <td>172</td>\n      <td>0</td>\n      <td>1.4</td>\n      <td>2</td>\n      <td>0</td>\n      <td>2</td>\n      <td>1</td>\n    </tr>\n    <tr>\n      <th>3</th>\n      <td>56</td>\n      <td>1</td>\n      <td>1</td>\n      <td>120</td>\n      <td>236</td>\n      <td>0</td>\n      <td>1</td>\n      <td>178</td>\n      <td>0</td>\n      <td>0.8</td>\n      <td>2</td>\n      <td>0</td>\n      <td>2</td>\n      <td>1</td>\n    </tr>\n    <tr>\n      <th>4</th>\n      <td>57</td>\n      <td>0</td>\n      <td>0</td>\n      <td>120</td>\n      <td>354</td>\n      <td>0</td>\n      <td>1</td>\n      <td>163</td>\n      <td>1</td>\n      <td>0.6</td>\n      <td>2</td>\n      <td>0</td>\n      <td>2</td>\n      <td>1</td>\n    </tr>\n  </tbody>\n</table>\n</div>"
     },
     "metadata": {}
    }
   ]
  },
  {
   "cell_type": "code",
   "metadata": {
    "tags": [],
    "cell_id": "00005-c2955707-dd81-4a8d-ad33-0ef8551e989c",
    "deepnote_to_be_reexecuted": false,
    "source_hash": "9aee275c",
    "execution_start": 1620449850176,
    "execution_millis": 10,
    "deepnote_cell_type": "code"
   },
   "source": "df = df.sample(frac = 2, random_state=42, replace = True)\ndf.head()",
   "execution_count": null,
   "outputs": [
    {
     "output_type": "execute_result",
     "execution_count": 5,
     "data": {
      "application/vnd.deepnote.dataframe.v2+json": {
       "row_count": 5,
       "column_count": 14,
       "columns": [
        {
         "name": "age",
         "dtype": "int64",
         "stats": {
          "unique_count": 5,
          "nan_count": 0,
          "min": "46",
          "max": "69",
          "histogram": [
           {
            "bin_start": 46,
            "bin_end": 48.3,
            "count": 1
           },
           {
            "bin_start": 48.3,
            "bin_end": 50.6,
            "count": 1
           },
           {
            "bin_start": 50.6,
            "bin_end": 52.9,
            "count": 1
           },
           {
            "bin_start": 52.9,
            "bin_end": 55.2,
            "count": 0
           },
           {
            "bin_start": 55.2,
            "bin_end": 57.5,
            "count": 0
           },
           {
            "bin_start": 57.5,
            "bin_end": 59.8,
            "count": 0
           },
           {
            "bin_start": 59.8,
            "bin_end": 62.099999999999994,
            "count": 0
           },
           {
            "bin_start": 62.099999999999994,
            "bin_end": 64.4,
            "count": 1
           },
           {
            "bin_start": 64.4,
            "bin_end": 66.7,
            "count": 0
           },
           {
            "bin_start": 66.7,
            "bin_end": 69,
            "count": 1
           }
          ]
         }
        },
        {
         "name": "sex",
         "dtype": "int64",
         "stats": {
          "unique_count": 2,
          "nan_count": 0,
          "min": "0",
          "max": "1",
          "histogram": [
           {
            "bin_start": 0,
            "bin_end": 0.1,
            "count": 1
           },
           {
            "bin_start": 0.1,
            "bin_end": 0.2,
            "count": 0
           },
           {
            "bin_start": 0.2,
            "bin_end": 0.30000000000000004,
            "count": 0
           },
           {
            "bin_start": 0.30000000000000004,
            "bin_end": 0.4,
            "count": 0
           },
           {
            "bin_start": 0.4,
            "bin_end": 0.5,
            "count": 0
           },
           {
            "bin_start": 0.5,
            "bin_end": 0.6000000000000001,
            "count": 0
           },
           {
            "bin_start": 0.6000000000000001,
            "bin_end": 0.7000000000000001,
            "count": 0
           },
           {
            "bin_start": 0.7000000000000001,
            "bin_end": 0.8,
            "count": 0
           },
           {
            "bin_start": 0.8,
            "bin_end": 0.9,
            "count": 0
           },
           {
            "bin_start": 0.9,
            "bin_end": 1,
            "count": 4
           }
          ]
         }
        },
        {
         "name": "cp",
         "dtype": "int64",
         "stats": {
          "unique_count": 4,
          "nan_count": 0,
          "min": "0",
          "max": "3",
          "histogram": [
           {
            "bin_start": 0,
            "bin_end": 0.3,
            "count": 1
           },
           {
            "bin_start": 0.3,
            "bin_end": 0.6,
            "count": 0
           },
           {
            "bin_start": 0.6,
            "bin_end": 0.8999999999999999,
            "count": 0
           },
           {
            "bin_start": 0.8999999999999999,
            "bin_end": 1.2,
            "count": 1
           },
           {
            "bin_start": 1.2,
            "bin_end": 1.5,
            "count": 0
           },
           {
            "bin_start": 1.5,
            "bin_end": 1.7999999999999998,
            "count": 0
           },
           {
            "bin_start": 1.7999999999999998,
            "bin_end": 2.1,
            "count": 2
           },
           {
            "bin_start": 2.1,
            "bin_end": 2.4,
            "count": 0
           },
           {
            "bin_start": 2.4,
            "bin_end": 2.6999999999999997,
            "count": 0
           },
           {
            "bin_start": 2.6999999999999997,
            "bin_end": 3,
            "count": 1
           }
          ]
         }
        },
        {
         "name": "trestbps",
         "dtype": "int64",
         "stats": {
          "unique_count": 4,
          "nan_count": 0,
          "min": "94",
          "max": "160",
          "histogram": [
           {
            "bin_start": 94,
            "bin_end": 100.6,
            "count": 1
           },
           {
            "bin_start": 100.6,
            "bin_end": 107.2,
            "count": 0
           },
           {
            "bin_start": 107.2,
            "bin_end": 113.8,
            "count": 0
           },
           {
            "bin_start": 113.8,
            "bin_end": 120.4,
            "count": 1
           },
           {
            "bin_start": 120.4,
            "bin_end": 127,
            "count": 0
           },
           {
            "bin_start": 127,
            "bin_end": 133.6,
            "count": 0
           },
           {
            "bin_start": 133.6,
            "bin_end": 140.2,
            "count": 2
           },
           {
            "bin_start": 140.2,
            "bin_end": 146.8,
            "count": 0
           },
           {
            "bin_start": 146.8,
            "bin_end": 153.4,
            "count": 0
           },
           {
            "bin_start": 153.4,
            "bin_end": 160,
            "count": 1
           }
          ]
         }
        },
        {
         "name": "chol",
         "dtype": "int64",
         "stats": {
          "unique_count": 5,
          "nan_count": 0,
          "min": "195",
          "max": "249",
          "histogram": [
           {
            "bin_start": 195,
            "bin_end": 200.4,
            "count": 1
           },
           {
            "bin_start": 200.4,
            "bin_end": 205.8,
            "count": 0
           },
           {
            "bin_start": 205.8,
            "bin_end": 211.2,
            "count": 0
           },
           {
            "bin_start": 211.2,
            "bin_end": 216.6,
            "count": 0
           },
           {
            "bin_start": 216.6,
            "bin_end": 222,
            "count": 0
           },
           {
            "bin_start": 222,
            "bin_end": 227.4,
            "count": 1
           },
           {
            "bin_start": 227.4,
            "bin_end": 232.8,
            "count": 0
           },
           {
            "bin_start": 232.8,
            "bin_end": 238.2,
            "count": 2
           },
           {
            "bin_start": 238.2,
            "bin_end": 243.6,
            "count": 0
           },
           {
            "bin_start": 243.6,
            "bin_end": 249,
            "count": 1
           }
          ]
         }
        },
        {
         "name": "fbs",
         "dtype": "int64",
         "stats": {
          "unique_count": 2,
          "nan_count": 0,
          "min": "0",
          "max": "1",
          "histogram": [
           {
            "bin_start": 0,
            "bin_end": 0.1,
            "count": 4
           },
           {
            "bin_start": 0.1,
            "bin_end": 0.2,
            "count": 0
           },
           {
            "bin_start": 0.2,
            "bin_end": 0.30000000000000004,
            "count": 0
           },
           {
            "bin_start": 0.30000000000000004,
            "bin_end": 0.4,
            "count": 0
           },
           {
            "bin_start": 0.4,
            "bin_end": 0.5,
            "count": 0
           },
           {
            "bin_start": 0.5,
            "bin_end": 0.6000000000000001,
            "count": 0
           },
           {
            "bin_start": 0.6000000000000001,
            "bin_end": 0.7000000000000001,
            "count": 0
           },
           {
            "bin_start": 0.7000000000000001,
            "bin_end": 0.8,
            "count": 0
           },
           {
            "bin_start": 0.8,
            "bin_end": 0.9,
            "count": 0
           },
           {
            "bin_start": 0.9,
            "bin_end": 1,
            "count": 1
           }
          ]
         }
        },
        {
         "name": "restecg",
         "dtype": "int64",
         "stats": {
          "unique_count": 2,
          "nan_count": 0,
          "min": "0",
          "max": "1",
          "histogram": [
           {
            "bin_start": 0,
            "bin_end": 0.1,
            "count": 2
           },
           {
            "bin_start": 0.1,
            "bin_end": 0.2,
            "count": 0
           },
           {
            "bin_start": 0.2,
            "bin_end": 0.30000000000000004,
            "count": 0
           },
           {
            "bin_start": 0.30000000000000004,
            "bin_end": 0.4,
            "count": 0
           },
           {
            "bin_start": 0.4,
            "bin_end": 0.5,
            "count": 0
           },
           {
            "bin_start": 0.5,
            "bin_end": 0.6000000000000001,
            "count": 0
           },
           {
            "bin_start": 0.6000000000000001,
            "bin_end": 0.7000000000000001,
            "count": 0
           },
           {
            "bin_start": 0.7000000000000001,
            "bin_end": 0.8,
            "count": 0
           },
           {
            "bin_start": 0.8,
            "bin_end": 0.9,
            "count": 0
           },
           {
            "bin_start": 0.9,
            "bin_end": 1,
            "count": 3
           }
          ]
         }
        },
        {
         "name": "thalach",
         "dtype": "int64",
         "stats": {
          "unique_count": 5,
          "nan_count": 0,
          "min": "131",
          "max": "179",
          "histogram": [
           {
            "bin_start": 131,
            "bin_end": 135.8,
            "count": 1
           },
           {
            "bin_start": 135.8,
            "bin_end": 140.6,
            "count": 0
           },
           {
            "bin_start": 140.6,
            "bin_end": 145.4,
            "count": 1
           },
           {
            "bin_start": 145.4,
            "bin_end": 150.2,
            "count": 0
           },
           {
            "bin_start": 150.2,
            "bin_end": 155,
            "count": 1
           },
           {
            "bin_start": 155,
            "bin_end": 159.8,
            "count": 0
           },
           {
            "bin_start": 159.8,
            "bin_end": 164.6,
            "count": 1
           },
           {
            "bin_start": 164.6,
            "bin_end": 169.4,
            "count": 0
           },
           {
            "bin_start": 169.4,
            "bin_end": 174.2,
            "count": 0
           },
           {
            "bin_start": 174.2,
            "bin_end": 179,
            "count": 1
           }
          ]
         }
        },
        {
         "name": "exang",
         "dtype": "int64",
         "stats": {
          "unique_count": 2,
          "nan_count": 0,
          "min": "0",
          "max": "1",
          "histogram": [
           {
            "bin_start": 0,
            "bin_end": 0.1,
            "count": 4
           },
           {
            "bin_start": 0.1,
            "bin_end": 0.2,
            "count": 0
           },
           {
            "bin_start": 0.2,
            "bin_end": 0.30000000000000004,
            "count": 0
           },
           {
            "bin_start": 0.30000000000000004,
            "bin_end": 0.4,
            "count": 0
           },
           {
            "bin_start": 0.4,
            "bin_end": 0.5,
            "count": 0
           },
           {
            "bin_start": 0.5,
            "bin_end": 0.6000000000000001,
            "count": 0
           },
           {
            "bin_start": 0.6000000000000001,
            "bin_end": 0.7000000000000001,
            "count": 0
           },
           {
            "bin_start": 0.7000000000000001,
            "bin_end": 0.8,
            "count": 0
           },
           {
            "bin_start": 0.8,
            "bin_end": 0.9,
            "count": 0
           },
           {
            "bin_start": 0.9,
            "bin_end": 1,
            "count": 1
           }
          ]
         }
        },
        {
         "name": "oldpeak",
         "dtype": "float64",
         "stats": {
          "unique_count": 4,
          "nan_count": 0,
          "min": "0.0",
          "max": "0.8",
          "histogram": [
           {
            "bin_start": 0,
            "bin_end": 0.08,
            "count": 2
           },
           {
            "bin_start": 0.08,
            "bin_end": 0.16,
            "count": 1
           },
           {
            "bin_start": 0.16,
            "bin_end": 0.24,
            "count": 0
           },
           {
            "bin_start": 0.24,
            "bin_end": 0.32,
            "count": 0
           },
           {
            "bin_start": 0.32,
            "bin_end": 0.4,
            "count": 0
           },
           {
            "bin_start": 0.4,
            "bin_end": 0.48,
            "count": 0
           },
           {
            "bin_start": 0.48,
            "bin_end": 0.56,
            "count": 0
           },
           {
            "bin_start": 0.56,
            "bin_end": 0.64,
            "count": 1
           },
           {
            "bin_start": 0.64,
            "bin_end": 0.72,
            "count": 0
           },
           {
            "bin_start": 0.72,
            "bin_end": 0.8,
            "count": 1
           }
          ]
         }
        },
        {
         "name": "slope",
         "dtype": "int64",
         "stats": {
          "unique_count": 2,
          "nan_count": 0,
          "min": "1",
          "max": "2",
          "histogram": [
           {
            "bin_start": 1,
            "bin_end": 1.1,
            "count": 2
           },
           {
            "bin_start": 1.1,
            "bin_end": 1.2,
            "count": 0
           },
           {
            "bin_start": 1.2,
            "bin_end": 1.3,
            "count": 0
           },
           {
            "bin_start": 1.3,
            "bin_end": 1.4,
            "count": 0
           },
           {
            "bin_start": 1.4,
            "bin_end": 1.5,
            "count": 0
           },
           {
            "bin_start": 1.5,
            "bin_end": 1.6,
            "count": 0
           },
           {
            "bin_start": 1.6,
            "bin_end": 1.7000000000000002,
            "count": 0
           },
           {
            "bin_start": 1.7000000000000002,
            "bin_end": 1.8,
            "count": 0
           },
           {
            "bin_start": 1.8,
            "bin_end": 1.9,
            "count": 0
           },
           {
            "bin_start": 1.9,
            "bin_end": 2,
            "count": 3
           }
          ]
         }
        },
        {
         "name": "ca",
         "dtype": "int64",
         "stats": {
          "unique_count": 3,
          "nan_count": 0,
          "min": "0",
          "max": "2",
          "histogram": [
           {
            "bin_start": 0,
            "bin_end": 0.2,
            "count": 1
           },
           {
            "bin_start": 0.2,
            "bin_end": 0.4,
            "count": 0
           },
           {
            "bin_start": 0.4,
            "bin_end": 0.6000000000000001,
            "count": 0
           },
           {
            "bin_start": 0.6000000000000001,
            "bin_end": 0.8,
            "count": 0
           },
           {
            "bin_start": 0.8,
            "bin_end": 1,
            "count": 0
           },
           {
            "bin_start": 1,
            "bin_end": 1.2000000000000002,
            "count": 3
           },
           {
            "bin_start": 1.2000000000000002,
            "bin_end": 1.4000000000000001,
            "count": 0
           },
           {
            "bin_start": 1.4000000000000001,
            "bin_end": 1.6,
            "count": 0
           },
           {
            "bin_start": 1.6,
            "bin_end": 1.8,
            "count": 0
           },
           {
            "bin_start": 1.8,
            "bin_end": 2,
            "count": 1
           }
          ]
         }
        },
        {
         "name": "thal",
         "dtype": "int64",
         "stats": {
          "unique_count": 2,
          "nan_count": 0,
          "min": "2",
          "max": "3",
          "histogram": [
           {
            "bin_start": 2,
            "bin_end": 2.1,
            "count": 2
           },
           {
            "bin_start": 2.1,
            "bin_end": 2.2,
            "count": 0
           },
           {
            "bin_start": 2.2,
            "bin_end": 2.3,
            "count": 0
           },
           {
            "bin_start": 2.3,
            "bin_end": 2.4,
            "count": 0
           },
           {
            "bin_start": 2.4,
            "bin_end": 2.5,
            "count": 0
           },
           {
            "bin_start": 2.5,
            "bin_end": 2.6,
            "count": 0
           },
           {
            "bin_start": 2.6,
            "bin_end": 2.7,
            "count": 0
           },
           {
            "bin_start": 2.7,
            "bin_end": 2.8,
            "count": 0
           },
           {
            "bin_start": 2.8,
            "bin_end": 2.9,
            "count": 0
           },
           {
            "bin_start": 2.9,
            "bin_end": 3,
            "count": 3
           }
          ]
         }
        },
        {
         "name": "target",
         "dtype": "int64",
         "stats": {
          "unique_count": 2,
          "nan_count": 0,
          "min": "0",
          "max": "1",
          "histogram": [
           {
            "bin_start": 0,
            "bin_end": 0.1,
            "count": 2
           },
           {
            "bin_start": 0.1,
            "bin_end": 0.2,
            "count": 0
           },
           {
            "bin_start": 0.2,
            "bin_end": 0.30000000000000004,
            "count": 0
           },
           {
            "bin_start": 0.30000000000000004,
            "bin_end": 0.4,
            "count": 0
           },
           {
            "bin_start": 0.4,
            "bin_end": 0.5,
            "count": 0
           },
           {
            "bin_start": 0.5,
            "bin_end": 0.6000000000000001,
            "count": 0
           },
           {
            "bin_start": 0.6000000000000001,
            "bin_end": 0.7000000000000001,
            "count": 0
           },
           {
            "bin_start": 0.7000000000000001,
            "bin_end": 0.8,
            "count": 0
           },
           {
            "bin_start": 0.8,
            "bin_end": 0.9,
            "count": 0
           },
           {
            "bin_start": 0.9,
            "bin_end": 1,
            "count": 3
           }
          ]
         }
        },
        {
         "name": "_deepnote_index_column",
         "dtype": "int64"
        }
       ],
       "rows_top": [
        {
         "age": 63,
         "sex": 0,
         "cp": 1,
         "trestbps": 140,
         "chol": 195,
         "fbs": 0,
         "restecg": 1,
         "thalach": 179,
         "exang": 0,
         "oldpeak": 0,
         "slope": 2,
         "ca": 2,
         "thal": 2,
         "target": 1,
         "_deepnote_index_column": 102
        },
        {
         "age": 46,
         "sex": 1,
         "cp": 0,
         "trestbps": 120,
         "chol": 249,
         "fbs": 0,
         "restecg": 0,
         "thalach": 144,
         "exang": 0,
         "oldpeak": 0.8,
         "slope": 2,
         "ca": 0,
         "thal": 3,
         "target": 0,
         "_deepnote_index_column": 270
        },
        {
         "age": 69,
         "sex": 1,
         "cp": 3,
         "trestbps": 160,
         "chol": 234,
         "fbs": 1,
         "restecg": 0,
         "thalach": 131,
         "exang": 0,
         "oldpeak": 0.1,
         "slope": 1,
         "ca": 1,
         "thal": 2,
         "target": 1,
         "_deepnote_index_column": 106
        },
        {
         "age": 51,
         "sex": 1,
         "cp": 2,
         "trestbps": 94,
         "chol": 227,
         "fbs": 0,
         "restecg": 1,
         "thalach": 154,
         "exang": 1,
         "oldpeak": 0,
         "slope": 2,
         "ca": 1,
         "thal": 3,
         "target": 1,
         "_deepnote_index_column": 71
        },
        {
         "age": 50,
         "sex": 1,
         "cp": 2,
         "trestbps": 140,
         "chol": 233,
         "fbs": 0,
         "restecg": 1,
         "thalach": 163,
         "exang": 0,
         "oldpeak": 0.6,
         "slope": 1,
         "ca": 1,
         "thal": 3,
         "target": 0,
         "_deepnote_index_column": 188
        }
       ],
       "rows_bottom": null
      },
      "text/plain": "     age  sex  cp  trestbps  chol  fbs  restecg  thalach  exang  oldpeak  \\\n102   63    0   1       140   195    0        1      179      0      0.0   \n270   46    1   0       120   249    0        0      144      0      0.8   \n106   69    1   3       160   234    1        0      131      0      0.1   \n71    51    1   2        94   227    0        1      154      1      0.0   \n188   50    1   2       140   233    0        1      163      0      0.6   \n\n     slope  ca  thal  target  \n102      2   2     2       1  \n270      2   0     3       0  \n106      1   1     2       1  \n71       2   1     3       1  \n188      1   1     3       0  ",
      "text/html": "<div>\n<style scoped>\n    .dataframe tbody tr th:only-of-type {\n        vertical-align: middle;\n    }\n\n    .dataframe tbody tr th {\n        vertical-align: top;\n    }\n\n    .dataframe thead th {\n        text-align: right;\n    }\n</style>\n<table border=\"1\" class=\"dataframe\">\n  <thead>\n    <tr style=\"text-align: right;\">\n      <th></th>\n      <th>age</th>\n      <th>sex</th>\n      <th>cp</th>\n      <th>trestbps</th>\n      <th>chol</th>\n      <th>fbs</th>\n      <th>restecg</th>\n      <th>thalach</th>\n      <th>exang</th>\n      <th>oldpeak</th>\n      <th>slope</th>\n      <th>ca</th>\n      <th>thal</th>\n      <th>target</th>\n    </tr>\n  </thead>\n  <tbody>\n    <tr>\n      <th>102</th>\n      <td>63</td>\n      <td>0</td>\n      <td>1</td>\n      <td>140</td>\n      <td>195</td>\n      <td>0</td>\n      <td>1</td>\n      <td>179</td>\n      <td>0</td>\n      <td>0.0</td>\n      <td>2</td>\n      <td>2</td>\n      <td>2</td>\n      <td>1</td>\n    </tr>\n    <tr>\n      <th>270</th>\n      <td>46</td>\n      <td>1</td>\n      <td>0</td>\n      <td>120</td>\n      <td>249</td>\n      <td>0</td>\n      <td>0</td>\n      <td>144</td>\n      <td>0</td>\n      <td>0.8</td>\n      <td>2</td>\n      <td>0</td>\n      <td>3</td>\n      <td>0</td>\n    </tr>\n    <tr>\n      <th>106</th>\n      <td>69</td>\n      <td>1</td>\n      <td>3</td>\n      <td>160</td>\n      <td>234</td>\n      <td>1</td>\n      <td>0</td>\n      <td>131</td>\n      <td>0</td>\n      <td>0.1</td>\n      <td>1</td>\n      <td>1</td>\n      <td>2</td>\n      <td>1</td>\n    </tr>\n    <tr>\n      <th>71</th>\n      <td>51</td>\n      <td>1</td>\n      <td>2</td>\n      <td>94</td>\n      <td>227</td>\n      <td>0</td>\n      <td>1</td>\n      <td>154</td>\n      <td>1</td>\n      <td>0.0</td>\n      <td>2</td>\n      <td>1</td>\n      <td>3</td>\n      <td>1</td>\n    </tr>\n    <tr>\n      <th>188</th>\n      <td>50</td>\n      <td>1</td>\n      <td>2</td>\n      <td>140</td>\n      <td>233</td>\n      <td>0</td>\n      <td>1</td>\n      <td>163</td>\n      <td>0</td>\n      <td>0.6</td>\n      <td>1</td>\n      <td>1</td>\n      <td>3</td>\n      <td>0</td>\n    </tr>\n  </tbody>\n</table>\n</div>"
     },
     "metadata": {}
    }
   ]
  },
  {
   "cell_type": "code",
   "metadata": {
    "tags": [],
    "cell_id": "00007-50787509-1264-41a5-b9c5-4b1e18ee1e6a",
    "deepnote_to_be_reexecuted": false,
    "source_hash": "f3dd26da",
    "execution_start": 1620449850204,
    "execution_millis": 9,
    "deepnote_cell_type": "code"
   },
   "source": "df.isnull().sum()",
   "execution_count": null,
   "outputs": [
    {
     "output_type": "execute_result",
     "execution_count": 6,
     "data": {
      "text/plain": "age         0\nsex         0\ncp          0\ntrestbps    0\nchol        0\nfbs         0\nrestecg     0\nthalach     0\nexang       0\noldpeak     0\nslope       0\nca          0\nthal        0\ntarget      0\ndtype: int64"
     },
     "metadata": {}
    }
   ]
  },
  {
   "cell_type": "code",
   "metadata": {
    "tags": [],
    "cell_id": "00007-94d06c27-e23c-442b-9aae-64dbfb4eee42",
    "deepnote_to_be_reexecuted": false,
    "source_hash": "9c4d5292",
    "execution_start": 1620449850205,
    "execution_millis": 8,
    "deepnote_cell_type": "code"
   },
   "source": "X = df.drop(['target'], 1)\ny = df.target\nprint(X.shape, y.shape)",
   "execution_count": null,
   "outputs": [
    {
     "name": "stdout",
     "text": "(606, 13) (606,)\n",
     "output_type": "stream"
    }
   ]
  },
  {
   "cell_type": "code",
   "metadata": {
    "tags": [],
    "cell_id": "00008-adc8a9dd-1417-4c48-be6b-92ddc438e43f",
    "deepnote_to_be_reexecuted": false,
    "source_hash": "77afc427",
    "execution_start": 1620449850206,
    "execution_millis": 1,
    "deepnote_cell_type": "code"
   },
   "source": "#Import Machine Learning Libraries\nfrom sklearn.model_selection import train_test_split\nfrom sklearn import svm\n\nfrom sklearn.model_selection import RandomizedSearchCV",
   "execution_count": null,
   "outputs": []
  },
  {
   "cell_type": "code",
   "metadata": {
    "tags": [],
    "cell_id": "00009-450fd1d3-abc3-4710-a38c-aa84e214b9e4",
    "deepnote_to_be_reexecuted": false,
    "source_hash": "18f0f351",
    "execution_start": 1620449850209,
    "execution_millis": 26,
    "deepnote_cell_type": "code"
   },
   "source": "X_train, X_test, y_train, y_test = train_test_split(X, y, test_size=0.2)\nclf = svm.SVC()\n\nclf.fit(X_train, y_train)\nprint(\"The accuracy of the classifier is {}\".format(clf.score(X_test, y_test)))",
   "execution_count": null,
   "outputs": [
    {
     "name": "stdout",
     "text": "The accuracy of the classifier is 0.6885245901639344\n",
     "output_type": "stream"
    }
   ]
  },
  {
   "cell_type": "code",
   "metadata": {
    "tags": [],
    "cell_id": "00010-82560fd3-d93d-44bd-82e1-634000698803",
    "deepnote_to_be_reexecuted": false,
    "source_hash": "8fbac66a",
    "execution_start": 1620449850273,
    "execution_millis": 388,
    "deepnote_cell_type": "code"
   },
   "source": "#Lets try tuning some hyperparameters.\nparam_dist = {'C': [0.1, 1, 10, 100, 1000], \n              'gamma': [1, 0.1, 0.01, 0.001, 0.0001],\n              'kernel': ['rbf']} \n\nsvc_hyper = RandomizedSearchCV(SVC(), param_distributions=param_dist, verbose=2, cv=3, random_state=42, n_iter=10, scoring='accuracy')\nsvc_hyper.fit(X_train, y_train)",
   "execution_count": null,
   "outputs": [
    {
     "name": "stdout",
     "text": "Fitting 3 folds for each of 10 candidates, totalling 30 fits\n[CV] END .......................C=1, gamma=0.001, kernel=rbf; total time=   0.0s\n[CV] END .......................C=1, gamma=0.001, kernel=rbf; total time=   0.0s\n[CV] END .......................C=1, gamma=0.001, kernel=rbf; total time=   0.0s\n[CV] END .......................C=100, gamma=0.1, kernel=rbf; total time=   0.0s\n[CV] END .......................C=100, gamma=0.1, kernel=rbf; total time=   0.0s\n[CV] END .......................C=100, gamma=0.1, kernel=rbf; total time=   0.0s\n[CV] END .........................C=0.1, gamma=1, kernel=rbf; total time=   0.0s\n[CV] END .........................C=0.1, gamma=1, kernel=rbf; total time=   0.0s\n[CV] END .........................C=0.1, gamma=1, kernel=rbf; total time=   0.0s\n[CV] END ....................C=1000, gamma=0.001, kernel=rbf; total time=   0.0s\n[CV] END ....................C=1000, gamma=0.001, kernel=rbf; total time=   0.0s\n[CV] END ....................C=1000, gamma=0.001, kernel=rbf; total time=   0.0s\n[CV] END ........................C=10, gamma=0.1, kernel=rbf; total time=   0.0s\n[CV] END ........................C=10, gamma=0.1, kernel=rbf; total time=   0.0s\n[CV] END ........................C=10, gamma=0.1, kernel=rbf; total time=   0.0s\n[CV] END ......................C=1, gamma=0.0001, kernel=rbf; total time=   0.0s\n[CV] END ......................C=1, gamma=0.0001, kernel=rbf; total time=   0.0s\n[CV] END ......................C=1, gamma=0.0001, kernel=rbf; total time=   0.0s\n[CV] END ......................C=10, gamma=0.001, kernel=rbf; total time=   0.0s\n[CV] END ......................C=10, gamma=0.001, kernel=rbf; total time=   0.0s\n[CV] END ......................C=10, gamma=0.001, kernel=rbf; total time=   0.0s\n[CV] END .......................C=0.1, gamma=0.1, kernel=rbf; total time=   0.0s\n[CV] END .......................C=0.1, gamma=0.1, kernel=rbf; total time=   0.0s\n[CV] END .......................C=0.1, gamma=0.1, kernel=rbf; total time=   0.0s\n[CV] END .....................C=1000, gamma=0.01, kernel=rbf; total time=   0.0s\n[CV] END .....................C=1000, gamma=0.01, kernel=rbf; total time=   0.0s\n[CV] END .....................C=1000, gamma=0.01, kernel=rbf; total time=   0.0s\n[CV] END ...........................C=1, gamma=1, kernel=rbf; total time=   0.0s\n[CV] END ...........................C=1, gamma=1, kernel=rbf; total time=   0.0s\n[CV] END ...........................C=1, gamma=1, kernel=rbf; total time=   0.0s\n",
     "output_type": "stream"
    },
    {
     "output_type": "execute_result",
     "execution_count": 10,
     "data": {
      "text/plain": "RandomizedSearchCV(cv=3, estimator=SVC(),\n                   param_distributions={'C': [0.1, 1, 10, 100, 1000],\n                                        'gamma': [1, 0.1, 0.01, 0.001, 0.0001],\n                                        'kernel': ['rbf']},\n                   random_state=42, scoring='accuracy', verbose=2)"
     },
     "metadata": {}
    }
   ]
  },
  {
   "cell_type": "code",
   "metadata": {
    "tags": [],
    "cell_id": "00011-29eaae4f-55f2-4421-b890-fdc73fbf315a",
    "deepnote_to_be_reexecuted": false,
    "source_hash": "55660a92",
    "execution_start": 1620450807266,
    "execution_millis": 5,
    "deepnote_cell_type": "code"
   },
   "source": "svc_hyper.best_params_  ",
   "execution_count": null,
   "outputs": [
    {
     "output_type": "execute_result",
     "execution_count": 13,
     "data": {
      "text/plain": "{'kernel': 'rbf', 'gamma': 0.001, 'C': 1000}"
     },
     "metadata": {}
    }
   ]
  },
  {
   "cell_type": "code",
   "metadata": {
    "tags": [],
    "cell_id": "00011-88e0d2cf-58d9-4683-9f31-0eb5b80c1dfa",
    "deepnote_to_be_reexecuted": false,
    "source_hash": "336f9e9c",
    "execution_start": 1620449850660,
    "execution_millis": 81,
    "deepnote_cell_type": "code"
   },
   "source": "\nbest_svc = SVC(C=1000, gamma=0.001, kernel='rbf')\nbest_svc.fit(X_train, y_train)\nprint(\"The accuracy of the classifier is {}\".format(best_svc.score(X_test, y_test)))",
   "execution_count": null,
   "outputs": [
    {
     "name": "stdout",
     "text": "The accuracy of the classifier is 0.9426229508196722\n",
     "output_type": "stream"
    }
   ]
  },
  {
   "cell_type": "code",
   "metadata": {
    "tags": [],
    "cell_id": "00013-f04f639a-58b2-49c6-bf69-6325860aa274",
    "deepnote_to_be_reexecuted": false,
    "source_hash": "b623e53d",
    "execution_start": 1620449850699,
    "execution_millis": 0,
    "deepnote_cell_type": "code"
   },
   "source": "",
   "execution_count": null,
   "outputs": []
  },
  {
   "cell_type": "markdown",
   "source": "<a style='text-decoration:none;line-height:16px;display:flex;color:#5B5B62;padding:10px;justify-content:end;' href='https://deepnote.com?utm_source=created-in-deepnote-cell&projectId=8f8e9111-6eac-4d76-96a9-bcfc00f9e895' target=\"_blank\">\n<img alt='Created in deepnote.com' style='display:inline;max-height:16px;margin:0px;margin-right:7.5px;' src='data:image/svg+xml;base64,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' > </img>\nCreated in <span style='font-weight:600;margin-left:4px;'>Deepnote</span></a>",
   "metadata": {
    "tags": [],
    "created_in_deepnote_cell": true,
    "deepnote_cell_type": "markdown"
   }
  }
 ],
 "nbformat": 4,
 "nbformat_minor": 2,
 "metadata": {
  "orig_nbformat": 2,
  "deepnote": {
   "is_reactive": false
  },
  "deepnote_notebook_id": "9d72b15f-9203-41b6-8827-110a8e9eadd5",
  "deepnote_execution_queue": []
 }
}